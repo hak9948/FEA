{
 "cells": [
  {
   "cell_type": "markdown",
   "metadata": {},
   "source": [
    "1D Heat Transfer Analysis\n",
    "Governing equation: $$\\nabla(\\vec{k}\\nabla\\theta) = -q^B$$\n",
    "where $\\theta$ is the temperature and $q$ is the heat.\n",
    "In 1D, this is $$\\theta '' = \\frac{-q^B}{k}$$\n",
    "The weak from of the heat equation is then: $$(\\theta ',\\phi ') = (\\frac{-q^B}{k},\\phi)$$\n",
    "where $(\\cdot,\\cdot)$ denotes scalor product and $\\phi$ is any function in $V$ which is a vector space containing all function who satisfy the boundary conditions and whose first derivative is piece-wise contenious.\n",
    "Now consider $v_h$ in place of $\\phi$, where $v_h$ exisits in $V_h$ which is finite dimentional (unlike $V$).\n",
    "Now let us create $n$ \"elements\", and basis functions corresponding to the elements. For simplisity, we consider only linear functions $\\phi$ with the following condition:\n",
    "\\begin{equation}\n",
    "  \\phi_i(x_j) =\n",
    "    \\begin{cases}\n",
    "      1 & \\text{if $i=j$}\\\\\n",
    "      0 & \\text{if $i\\neq j$}\\\\\n",
    "    \\end{cases}       \n",
    "\\end{equation}\n",
    "That is, $$v_h = \\sum\\limits_{i=0}^{n}v_i\\phi_i$$\n",
    "Now, we re-write our 1D heat equation in weak form: $$\\sum\\limits_{i=0}^{n}u_i(\\phi_i',\\phi_j')=(\\frac{-q^B}{k},\\phi_j)$$\n",
    "That is: $$AU=F$$\n",
    "where $A_{ij}=(\\phi_i',\\phi_j')$, $U^T={u_1, u_2, u_3, ... u_n}$, and $F^T_i = (-q^B, \\phi_i)$\n",
    "We want to solve for $U$.\n"
   ]
  },
  {
   "cell_type": "code",
   "execution_count": 2,
   "metadata": {},
   "outputs": [],
   "source": [
    "import numpy as np\n",
    "import math\n",
    "import sympy as sym\n",
    "import math"
   ]
  },
  {
   "cell_type": "code",
   "execution_count": 3,
   "metadata": {},
   "outputs": [],
   "source": [
    "#setting the variables/functions\n",
    "n_element = 10\n",
    "dx = 1/n_element\n",
    "#the base functions are cones with magnitude 1 at each node.\n",
    "def get_base(ith_node, dx):\n",
    "    x = sym.Symbol( 'x', real=True )\n",
    "    formula = sym.Piecewise((x/dx+(1-ith_node), sym.Interval(dx*ith_node-dx, dx*ith_node).contains(x)), (-x/dx+(1+ith_node), sym.Interval(dx*ith_node, dx*ith_node+dx).contains(x)), (0,True))\n",
    "    return formula\n",
    "#matrix elements for A\n",
    "def get_a(row, column):\n",
    "    x = sym.Symbol('x', real = True)\n",
    "    row_base = get_base(row, dx)\n",
    "    column_base = get_base(column, dx)\n",
    "    diff_row_base = sym.diff(row_base, x)\n",
    "    diff_column_base = sym.diff(column_base, x)\n",
    "    return sym.integrate(diff_row_base*diff_column_base, (x, 0, 1))\n",
    "#matrix elements for F\n",
    "def get_f(row):\n",
    "    x = sym.Symbol('x', real = True)\n",
    "    k = 1\n",
    "    q = 1\n",
    "    f = -q/k\n",
    "    row_base = get_base(row, dx)\n",
    "    return sym.integrate(f*row_base, (x, 0, 1))"
   ]
  },
  {
   "cell_type": "code",
   "execution_count": 4,
   "metadata": {},
   "outputs": [],
   "source": [
    "#this one takes a while to run (>1min)\n",
    "#Assembling matrix A\n",
    "A = np.zeros((n_element+1, n_element+1))\n",
    "for ith_row in range(1, n_element):\n",
    "    A.itemset((ith_row, ith_row-1), get_a(ith_row, ith_row-1))\n",
    "    A.itemset((ith_row, ith_row), get_a(ith_row, ith_row))\n",
    "    A.itemset((ith_row, ith_row+1), get_a(ith_row, ith_row+1))\n",
    "A.itemset((0,0), get_a(0,0))\n",
    "A.itemset((0,1), get_a(0,1))\n",
    "A.itemset((n_element, n_element), get_a(n_element, n_element))\n",
    "A.itemset((n_element, n_element-1), get_a(n_element, n_element-1))\n"
   ]
  },
  {
   "cell_type": "code",
   "execution_count": 5,
   "metadata": {},
   "outputs": [],
   "source": [
    "#Assumblying vector F\n",
    "F = np.zeros(n_element+1)\n",
    "for ith_element in range(n_element+1):\n",
    "    F.itemset(ith_element, get_f(ith_element))\n"
   ]
  },
  {
   "cell_type": "code",
   "execution_count": 6,
   "metadata": {},
   "outputs": [
    {
     "name": "stdout",
     "output_type": "stream",
     "text": [
      "A= [[ 10. -10.   0.   0.   0.   0.   0.   0.   0.   0.   0.]\n",
      " [-10.  20. -10.   0.   0.   0.   0.   0.   0.   0.   0.]\n",
      " [  0. -10.  20. -10.   0.   0.   0.   0.   0.   0.   0.]\n",
      " [  0.   0. -10.  20. -10.   0.   0.   0.   0.   0.   0.]\n",
      " [  0.   0.   0. -10.  20. -10.   0.   0.   0.   0.   0.]\n",
      " [  0.   0.   0.   0. -10.  20. -10.   0.   0.   0.   0.]\n",
      " [  0.   0.   0.   0.   0. -10.  20. -10.   0.   0.   0.]\n",
      " [  0.   0.   0.   0.   0.   0. -10.  20. -10.   0.   0.]\n",
      " [  0.   0.   0.   0.   0.   0.   0. -10.  20. -10.   0.]\n",
      " [  0.   0.   0.   0.   0.   0.   0.   0. -10.  20. -10.]\n",
      " [  0.   0.   0.   0.   0.   0.   0.   0.   0. -10.  10.]]\n",
      "F= [-0.05 -0.1  -0.1  -0.1  -0.1  -0.1  -0.1  -0.1  -0.1  -0.1  -0.05]\n"
     ]
    }
   ],
   "source": [
    "print('A=', A)\n",
    "print('F=', F)"
   ]
  },
  {
   "cell_type": "code",
   "execution_count": 8,
   "metadata": {},
   "outputs": [
    {
     "name": "stdout",
     "output_type": "stream",
     "text": [
      "[ 0.    -0.045 -0.08  -0.105 -0.12  -0.125 -0.12  -0.105 -0.08  -0.045\n",
      "  0.   ]\n"
     ]
    }
   ],
   "source": [
    "A.itemset((0,1), 0)\n",
    "A.itemset((1,0),0)\n",
    "A.itemset((n_element, n_element-1), 0)\n",
    "A.itemset((n_element-1, n_element), 0)\n",
    "F.itemset(0,0)\n",
    "F.itemset(10,0)\n",
    "U = np.dot(np.linalg.inv(A), F)\n",
    "print(U)"
   ]
  },
  {
   "cell_type": "code",
   "execution_count": 9,
   "metadata": {},
   "outputs": [
    {
     "name": "stdout",
     "output_type": "stream",
     "text": [
      "[ 0.    -0.045 -0.08  -0.105 -0.12  -0.125 -0.12  -0.105 -0.08  -0.045\n",
      "  0.   ]\n"
     ]
    }
   ],
   "source": [
    "A.itemset((0,1), 0)\n",
    "A.itemset((1,0),-10)\n",
    "A.itemset((n_element, n_element-1), 0)\n",
    "A.itemset((n_element-1, n_element), -10)\n",
    "F.itemset(0,0)\n",
    "F.itemset(10,0)\n",
    "U = np.dot(np.linalg.inv(A), F)\n",
    "print(U)"
   ]
  },
  {
   "cell_type": "code",
   "execution_count": null,
   "metadata": {},
   "outputs": [],
   "source": []
  }
 ],
 "metadata": {
  "kernelspec": {
   "display_name": "Python 3.8.5 ('base')",
   "language": "python",
   "name": "python3"
  },
  "language_info": {
   "codemirror_mode": {
    "name": "ipython",
    "version": 3
   },
   "file_extension": ".py",
   "mimetype": "text/x-python",
   "name": "python",
   "nbconvert_exporter": "python",
   "pygments_lexer": "ipython3",
   "version": "3.8.5"
  },
  "orig_nbformat": 4,
  "vscode": {
   "interpreter": {
    "hash": "95ee85681d1d770ab4944afeab7b7ee9b3e160a42c172d6025302f253f514a68"
   }
  }
 },
 "nbformat": 4,
 "nbformat_minor": 2
}
