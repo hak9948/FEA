{
 "cells": [
  {
   "cell_type": "markdown",
   "metadata": {},
   "source": [
    "2D steady state heat equation (poisson, boundary temperature condition). $\\\\$ Same idea as in 1D, but now we need to obtain the basis funcitons and interpolation functions in 2D mesh.$\\\\$\n",
    "For simplicity, we shall start with square mesh $[(x_0, y_0), (x_0, y_0+d), (x_0+d, y_0), (x_0+d, y_0+d)]$ and let (u, v) denote the coordinate within this mesh. That is,\n",
    "$$(u, v) = (x-x_0, y-y_0)$$\n",
    "The basis functions are:\n",
    "\\begin{equation}\n",
    "  \\phi_{i,j}(x_k, y_l) =\n",
    "    \\begin{cases}\n",
    "      1 & \\text{if $i=k$ and $j=l$}\\\\\n",
    "      0 & \\text{otherwise}\\\\\n",
    "    \\end{cases}\n",
    "\\end{equation}\n",
    "where $i$ and $k$ are subscript used for x axis and $j$ and $l$ are subscript used for y axis.\n",
    "The bilinear interpolation with polynomial fit can be found on wikipedia, however we can just use the matplot library to save time and effort.$\\\\$\n",
    "In the end, we will end up with:$$AU=F$$ where A is now a 3D tensor and F is a 2D matrix.$\\\\$\n",
    "The boundary conditions are applied in the same manner as in 1D, where the rows, columns, and depths corresponding to the boundary is omitted fromt he matrix calculation, and appropriate modification is made to F.\n",
    "\n"
   ]
  },
  {
   "cell_type": "code",
   "execution_count": null,
   "metadata": {},
   "outputs": [],
   "source": [
    "import math\n",
    "import numpy as np\n",
    "import scipy as sci\n",
    "import matplotlib.pyplot as plt"
   ]
  }
 ],
 "metadata": {
  "kernelspec": {
   "display_name": "Python 3.8.9 64-bit",
   "language": "python",
   "name": "python3"
  },
  "language_info": {
   "name": "python",
   "version": "3.8.9"
  },
  "orig_nbformat": 4,
  "vscode": {
   "interpreter": {
    "hash": "31f2aee4e71d21fbe5cf8b01ff0e069b9275f58929596ceb00d14d90e3e16cd6"
   }
  }
 },
 "nbformat": 4,
 "nbformat_minor": 2
}
